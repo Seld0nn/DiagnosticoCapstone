{
 "cells": [
  {
   "cell_type": "markdown",
   "id": "51357e88",
   "metadata": {},
   "source": [
    "# Evaluación de diagnostico \n",
    "## Matías Soto - numero almuno16625153\n",
    "\n",
    "* Este codigo usa la base de datos de *Farmers Protest Tweets Dataset*. La cual puede ser descargada en [Datos](https://www.kaggle.com/datasets/prathamsharma123/farmers-protest-tweets-dataset-raw-json)\n",
    "\n",
    "* **Para una correcta ejecución del codigo es necesario descagar la base de datos, descomprimila en esta carpeta y cambiar su nombre a data.json**\n",
    "\n",
    "* La lectura de la base de datos demora unos segundos, pero el resto del código corre sin retraso."
   ]
  },
  {
   "cell_type": "markdown",
   "id": "6bebd8c1",
   "metadata": {},
   "source": [
    "Leemos la base de datos:"
   ]
  },
  {
   "cell_type": "code",
   "execution_count": 20,
   "id": "bafc543d",
   "metadata": {},
   "outputs": [],
   "source": [
    "from datetime import datetime\n",
    "import re\n",
    "import json\n",
    "\n",
    "def readJson():\n",
    "    data = [json.loads(line) for line in open('data.json', 'r')]  \n",
    "    return data\n",
    "data = readJson()"
   ]
  },
  {
   "cell_type": "markdown",
   "id": "169168af",
   "metadata": {},
   "source": [
    "***\n",
    "\n",
    "\n",
    "Entonces, habiendo leido la base de datos. Buscamos los Top 10 tweets más retuiteados."
   ]
  },
  {
   "cell_type": "code",
   "execution_count": 21,
   "id": "6d7a8cd3",
   "metadata": {},
   "outputs": [
    {
     "name": "stdout",
     "output_type": "stream",
     "text": [
      "\n",
      " Top 10 tuit mas retuitteados:\n",
      "1.- Retweeted: 315547 - User: rihanna - Link Tweet: https://twitter.com/rihanna/status/1356625889602199552\n",
      "2.- Retweeted: 103957 - User: GretaThunberg - Link Tweet: https://twitter.com/GretaThunberg/status/1356694884615340037\n",
      "3.- Retweeted: 67694 - User: GretaThunberg - Link Tweet: https://twitter.com/GretaThunberg/status/1357282507616645122\n",
      "4.- Retweeted: 35921 - User: miakhalifa - Link Tweet: https://twitter.com/miakhalifa/status/1356848397899112448\n",
      "5.- Retweeted: 26972 - User: miakhalifa - Link Tweet: https://twitter.com/miakhalifa/status/1356827705161879553\n",
      "6.- Retweeted: 23251 - User: TeamJuJu - Link Tweet: https://twitter.com/TeamJuJu/status/1357048037302960129\n",
      "7.- Retweeted: 20132 - User: BobBlackman - Link Tweet: https://twitter.com/BobBlackman/status/1357755699162398720\n",
      "8.- Retweeted: 18744 - User: vanessa_vash - Link Tweet: https://twitter.com/vanessa_vash/status/1356681136655769605\n",
      "9.- Retweeted: 17368 - User: kylekuzma - Link Tweet: https://twitter.com/kylekuzma/status/1357009721090138112\n",
      "10.- Retweeted: 15677 - User: AmandaCerny - Link Tweet: https://twitter.com/AmandaCerny/status/1359013362881994752\n"
     ]
    }
   ],
   "source": [
    "def TopTweets(data):\n",
    "\n",
    "    top10RtArray = [0]*10\n",
    "    top10RtObject = []\n",
    "\n",
    "    for tweet in data:\n",
    "        if tweet[\"retweetCount\"] > top10RtArray[0]:\n",
    "                top10RtObject.append(tweet)\n",
    "                for object in top10RtObject:\n",
    "                    if top10RtArray[0] == object[\"retweetCount\"]:\n",
    "                        top10RtObject.remove(object)\n",
    "                \n",
    "                top10RtArray[0] = tweet[\"retweetCount\"]\n",
    "                top10RtArray.sort()\n",
    "\n",
    "    top10RtObject.sort(key=lambda x: x[\"retweetCount\"], reverse=True)\n",
    "\n",
    "    aux = 1\n",
    "    print(\"\\n Top 10 tuit mas retuitteados:\")\n",
    "    for i in top10RtObject:\n",
    "        print(str(aux) + \".- Retweeted: \" + str(i[\"retweetCount\"]) + \" - User: \" + i[\"user\"][\"username\"] + \" - Link Tweet: \" + i[\"url\"])\n",
    "        aux += 1\n",
    "\n",
    "    return top10RtObject\n",
    "\n",
    "top10Rt = TopTweets(data)"
   ]
  },
  {
   "cell_type": "markdown",
   "id": "689f00d3",
   "metadata": {},
   "source": [
    "***\n",
    "\n",
    "\n",
    "\n",
    "Buscamos los 10 usuarios en función de la cantidad de tweets que emitieron."
   ]
  },
  {
   "cell_type": "code",
   "execution_count": 22,
   "id": "4efd91d3",
   "metadata": {},
   "outputs": [
    {
     "name": "stdout",
     "output_type": "stream",
     "text": [
      "\n",
      " Top 10 Usuarios mas tuitteros:\n",
      "1.- Tweets: 7134 - User: harjot_tweeting\n",
      "2.- Tweets: 2091 - User: tasveersandhu\n",
      "3.- Tweets: 1991 - User: shells_n_petals\n",
      "4.- Tweets: 1841 - User: jot__b\n",
      "5.- Tweets: 1806 - User: rebelpacifist\n",
      "6.- Tweets: 1722 - User: rumsomal\n",
      "7.- Tweets: 1502 - User: Iamjazzie96\n",
      "8.- Tweets: 1460 - User: Jass_k_G\n",
      "9.- Tweets: 1453 - User: DigitalKisanBot\n",
      "10.- Tweets: 1446 - User: z_khalique007\n"
     ]
    }
   ],
   "source": [
    "def TopUsers(data):\n",
    "\n",
    "    usersDict = {}\n",
    "    top10User = []\n",
    "\n",
    "    for tweet in data:\n",
    "        if (tweet[\"user\"][\"username\"] in usersDict.keys()):\n",
    "            usersDict[tweet[\"user\"][\"username\"]] += 1\n",
    "        else:\n",
    "            usersDict[tweet[\"user\"][\"username\"]] = 1\n",
    "   \n",
    "    usersDict = {k: v for k, v in sorted(usersDict.items(), key=lambda item: item[1], reverse=True)}\n",
    "\n",
    "    aux = 0\n",
    "    for user in usersDict:\n",
    "        if aux < 10:\n",
    "            top10User.append([user, usersDict[user]])\n",
    "        else:\n",
    "            break\n",
    "        aux += 1\n",
    "\n",
    "    aux = 1\n",
    "    print(\"\\n Top 10 Usuarios mas tuitteros:\")\n",
    "    for i in top10User:\n",
    "        print(str(aux) + \".- Tweets: \"+ str(i[1]) + \" - User: \" + i[0])\n",
    "        aux += 1\n",
    "\n",
    "    return(top10User)\n",
    "\n",
    "top10User = TopUsers(data)"
   ]
  },
  {
   "cell_type": "markdown",
   "id": "b5190fc4",
   "metadata": {},
   "source": [
    "***\n",
    "\n",
    "\n",
    "Luego buscamos los días en donde hubo más tweets publicados."
   ]
  },
  {
   "cell_type": "code",
   "execution_count": 23,
   "id": "0b471a26",
   "metadata": {},
   "outputs": [
    {
     "name": "stdout",
     "output_type": "stream",
     "text": [
      "\n",
      " Top 10 Dias mas tuitteados:\n",
      "1.- Tweets: 83866 - Date: 2021-02-03\n",
      "2.- Tweets: 58607 - Date: 2021-02-04\n",
      "3.- Tweets: 33332 - Date: 2021-02-05\n",
      "4.- Tweets: 28548 - Date: 2021-02-02\n",
      "5.- Tweets: 22420 - Date: 2021-02-06\n",
      "6.- Tweets: 11325 - Date: 2021-02-07\n",
      "7.- Tweets: 9320 - Date: 2021-02-09\n",
      "8.- Tweets: 8920 - Date: 2021-02-08\n",
      "9.- Tweets: 7973 - Date: 2021-02-10\n",
      "10.- Tweets: 5698 - Date: 2021-02-11\n"
     ]
    }
   ],
   "source": [
    "def TopDays(data):\n",
    "\n",
    "    top10Days = []\n",
    "    dayDict = {}\n",
    "\n",
    "    for tweet in data: \n",
    "        tweetDate = tweet[\"date\"]\n",
    "        tweetDate = tweetDate.split(\"T\")[0]\n",
    "        if (tweetDate in dayDict.keys()):\n",
    "            dayDict[tweetDate] += 1\n",
    "        else: \n",
    "            dayDict[tweetDate] = 1\n",
    "\n",
    "    dayDict = {k: v for k, v in sorted(dayDict.items(), key=lambda item: item[1], reverse=True)}\n",
    "    \n",
    "    aux = 0\n",
    "    for user in dayDict:\n",
    "        if aux < 10:\n",
    "            top10Days.append([user, dayDict[user]])\n",
    "        else:\n",
    "            break\n",
    "        aux += 1\n",
    "    \n",
    "    aux = 1\n",
    "    print(\"\\n Top 10 Dias mas tuitteados:\")\n",
    "    for i in top10Days:\n",
    "        print(str(aux) + \".- Tweets: \" + str(i[1])+ \" - Date: \"+ i[0])\n",
    "        aux += 1\n",
    "\n",
    "    return(top10Days)\n",
    "\n",
    "top10Day = TopDays(data)"
   ]
  },
  {
   "cell_type": "markdown",
   "id": "2c6233e3",
   "metadata": {},
   "source": [
    "***\n",
    "\n",
    "Por último, buscamos los hashtags más usado."
   ]
  },
  {
   "cell_type": "code",
   "execution_count": 24,
   "id": "38c3f950",
   "metadata": {},
   "outputs": [
    {
     "name": "stdout",
     "output_type": "stream",
     "text": [
      "\n",
      " Top 10 Hashtags mas usados:\n",
      "1.- Times used: 404309 - Hastag: farmersprotest\n",
      "2.- Times used: 16865 - Hastag: istandwithfarmers\n",
      "3.- Times used: 11904 - Hastag: indianfarmershumanrights\n",
      "4.- Times used: 11204 - Hastag: standwithfarmers\n",
      "5.- Times used: 10959 - Hastag: farmersareindia\n",
      "6.- Times used: 9077 - Hastag: rihanna\n",
      "7.- Times used: 8772 - Hastag: farmersprotests\n",
      "8.- Times used: 7992 - Hastag: farmers\n",
      "9.- Times used: 6283 - Hastag: shameonbollywood\n",
      "10.- Times used: 6096 - Hastag: releasedetainedfarmers\n"
     ]
    }
   ],
   "source": [
    "def TopHashtag(data):\n",
    "    top10Hashtag = []\n",
    "    hashtagDict = {}\n",
    "\n",
    "    for tweet in data: \n",
    "        tweethashtags = {tag.strip(\"#\") for tag in tweet[\"content\"].split() if tag.startswith(\"#\")}\n",
    "        for hashtag in tweethashtags:\n",
    "            hasgtagLower = hashtag.lower()\n",
    "            if (hasgtagLower in hashtagDict):\n",
    "                hashtagDict[hasgtagLower] += 1\n",
    "            else: \n",
    "                hashtagDict[hasgtagLower] = 1\n",
    "\n",
    "    hashtagDict = {k: v for k, v in sorted(hashtagDict.items(), key=lambda item: item[1], reverse=True)}\n",
    "    aux = 0\n",
    "    for user in hashtagDict:\n",
    "        if aux < 10:\n",
    "            top10Hashtag.append([user, hashtagDict[user]])\n",
    "        else:\n",
    "            break\n",
    "        aux += 1\n",
    "\n",
    "    print(\"\\n Top 10 Hashtags mas usados:\")\n",
    "    aux = 1\n",
    "    for i in top10Hashtag:\n",
    "        print(str(aux) + \".- Times used: \"+ str(i[1]) + \" - Hastag: \" + i[0])\n",
    "        aux += 1\n",
    "        \n",
    "    return top10Hashtag\n",
    "\n",
    "top10Hashtag = TopHashtag(data)"
   ]
  },
  {
   "cell_type": "markdown",
   "id": "708e0b29",
   "metadata": {},
   "source": [
    "***\n",
    "\n",
    "Cualquier duda escribir a masoto2@uc.cl"
   ]
  }
 ],
 "metadata": {
  "kernelspec": {
   "display_name": "Python 3 (ipykernel)",
   "language": "python",
   "name": "python3"
  },
  "language_info": {
   "codemirror_mode": {
    "name": "ipython",
    "version": 3
   },
   "file_extension": ".py",
   "mimetype": "text/x-python",
   "name": "python",
   "nbconvert_exporter": "python",
   "pygments_lexer": "ipython3",
   "version": "3.9.12"
  }
 },
 "nbformat": 4,
 "nbformat_minor": 5
}
